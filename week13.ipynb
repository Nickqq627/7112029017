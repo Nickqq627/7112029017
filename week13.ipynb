{
  "nbformat": 4,
  "nbformat_minor": 0,
  "metadata": {
    "colab": {
      "provenance": [],
      "authorship_tag": "ABX9TyObWK1hAqTxR5zHJn83U+2U",
      "include_colab_link": true
    },
    "kernelspec": {
      "name": "python3",
      "display_name": "Python 3"
    },
    "language_info": {
      "name": "python"
    }
  },
  "cells": [
    {
      "cell_type": "markdown",
      "metadata": {
        "id": "view-in-github",
        "colab_type": "text"
      },
      "source": [
        "<a href=\"https://colab.research.google.com/github/Nickqq627/7112029017/blob/main/week13.ipynb\" target=\"_parent\"><img src=\"https://colab.research.google.com/assets/colab-badge.svg\" alt=\"Open In Colab\"/></a>"
      ]
    },
    {
      "cell_type": "code",
      "execution_count": 3,
      "metadata": {
        "colab": {
          "base_uri": "https://localhost:8080/"
        },
        "id": "2zmwLSkxGdaK",
        "outputId": "616cb688-e366-4cd5-8d76-b71fde7ba74a"
      },
      "outputs": [
        {
          "output_type": "stream",
          "name": "stderr",
          "text": [
            "[*********************100%***********************]  5 of 5 completed\n"
          ]
        },
        {
          "output_type": "stream",
          "name": "stdout",
          "text": [
            "最佳選股結果: [1 0 0 0 1]\n",
            "最佳權重: [0.5 0.  0.  0.  0.5]\n",
            "最佳適應度 (夏普比率): 0.06549569871123298\n"
          ]
        }
      ],
      "source": [
        "import yfinance as yf\n",
        "import numpy as np\n",
        "import random\n",
        "\n",
        "# 參數設定\n",
        "NUM_GENERATIONS = 100   # 世代數\n",
        "POPULATION_SIZE = 50    # 群體大小\n",
        "MUTATION_RATE = 0.1     # 突變機率\n",
        "TOURNAMENT_SIZE = 5     # 錦標賽選擇大小\n",
        "\n",
        "# 股票代碼與時間範圍\n",
        "TICKERS = [\"AAPL\", \"MSFT\", \"GOOGL\", \"AMZN\", \"TSLA\"]\n",
        "START_DATE = \"2020-01-01\"\n",
        "END_DATE = \"2023-01-01\"\n",
        "\n",
        "# 取得股票資料\n",
        "def fetch_stock_data(tickers, start, end):\n",
        "    data = yf.download(tickers, start=start, end=end)[\"Adj Close\"]\n",
        "    returns = data.pct_change().dropna()\n",
        "    return returns\n",
        "\n",
        "returns = fetch_stock_data(TICKERS, START_DATE, END_DATE)\n",
        "mean_returns = returns.mean()\n",
        "cov_matrix = returns.cov()\n",
        "\n",
        "# 適應函數：回報率/風險（夏普比率）\n",
        "def fitness_function(weights):\n",
        "    portfolio_return = np.dot(weights, mean_returns)\n",
        "    portfolio_volatility = np.sqrt(np.dot(weights.T, np.dot(cov_matrix, weights)))\n",
        "    sharpe_ratio = portfolio_return / portfolio_volatility\n",
        "    return sharpe_ratio\n",
        "\n",
        "# 初始化群體\n",
        "def initialize_population(size, num_assets):\n",
        "    return [np.random.randint(0, 2, num_assets) for _ in range(size)]\n",
        "\n",
        "# 計算權重\n",
        "def calculate_weights(chromosome):\n",
        "    if np.sum(chromosome) == 0:\n",
        "        return np.ones(len(chromosome)) / len(chromosome)\n",
        "    return chromosome / np.sum(chromosome)\n",
        "\n",
        "# 選擇：錦標賽選擇\n",
        "def tournament_selection(population, fitness_scores):\n",
        "    selected = random.sample(list(zip(population, fitness_scores)), TOURNAMENT_SIZE)\n",
        "    return max(selected, key=lambda x: x[1])[0]\n",
        "\n",
        "# 交配\n",
        "def crossover(parent1, parent2):\n",
        "    point = random.randint(1, len(parent1) - 1)\n",
        "    child1 = np.concatenate((parent1[:point], parent2[point:]))\n",
        "    child2 = np.concatenate((parent2[:point], parent1[point:]))\n",
        "    return child1, child2\n",
        "\n",
        "# 突變\n",
        "def mutate(chromosome, mutation_rate):\n",
        "    for i in range(len(chromosome)):\n",
        "        if random.random() < mutation_rate:\n",
        "            chromosome[i] = 1 - chromosome[i]\n",
        "    return chromosome\n",
        "\n",
        "# 主程式\n",
        "def genetic_algorithm():\n",
        "    num_assets = len(TICKERS)\n",
        "    population = initialize_population(POPULATION_SIZE, num_assets)\n",
        "\n",
        "    for generation in range(NUM_GENERATIONS):\n",
        "        fitness_scores = [fitness_function(calculate_weights(chromosome)) for chromosome in population]\n",
        "        new_population = []\n",
        "\n",
        "        for _ in range(POPULATION_SIZE // 2):\n",
        "            parent1 = tournament_selection(population, fitness_scores)\n",
        "            parent2 = tournament_selection(population, fitness_scores)\n",
        "            child1, child2 = crossover(parent1, parent2)\n",
        "            new_population.append(mutate(child1, MUTATION_RATE))\n",
        "            new_population.append(mutate(child2, MUTATION_RATE))\n",
        "\n",
        "        population = new_population\n",
        "\n",
        "    # 找到最佳染色體\n",
        "    fitness_scores = [fitness_function(calculate_weights(chromosome)) for chromosome in population]\n",
        "    best_chromosome = population[np.argmax(fitness_scores)]\n",
        "    best_weights = calculate_weights(best_chromosome)\n",
        "\n",
        "    return best_chromosome, best_weights, max(fitness_scores)\n",
        "\n",
        "best_chromosome, best_weights, best_fitness = genetic_algorithm()\n",
        "\n",
        "# 輸出結果\n",
        "print(\"最佳選股結果:\", best_chromosome)\n",
        "print(\"最佳權重:\", best_weights)\n",
        "print(\"最佳適應度 (夏普比率):\", best_fitness)"
      ]
    }
  ]
}